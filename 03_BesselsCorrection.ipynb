{
 "cells": [
  {
   "attachments": {},
   "cell_type": "markdown",
   "metadata": {},
   "source": [
    "## Bassel's Correction \n",
    "\n",
    "**Bessel's correction** is a statistical formula that adjusts the sample standard deviation to more accurately reflect the population standard deviation. The formula involves dividing the sum of squared deviations by `(n-1)` instead of `n`, where `n` is the `sample size`.\n",
    "\n",
    "The sample standard deviation is a measure of how spread out the data is from the mean value, and is calculated as the square root of the sum of squared deviations from the mean, divided by the number of observations minus one `(n-1)` for a sample, or just n for a population.\n",
    "\n",
    "The reason for using Bessel's correction is to account for the fact :\n",
    ">That the `sample standard deviation` tends to underestimate the `population standard deviation`, especially for `small sample sizes`. By using `(n-1)` instead of `n` in the denominator, Bessel's correction increases the value of the sample standard deviation, making it a better estimate of the population standard deviation.\n"
   ]
  },
  {
   "cell_type": "code",
   "execution_count": 11,
   "metadata": {},
   "outputs": [],
   "source": [
    "import numpy as np \n",
    "import pandas as pd"
   ]
  },
  {
   "cell_type": "code",
   "execution_count": 12,
   "metadata": {},
   "outputs": [],
   "source": [
    "# Define the data\n",
    "data = [1, 2, 3, 4, 5, 6, 7, 8, 9]"
   ]
  },
  {
   "cell_type": "code",
   "execution_count": 24,
   "metadata": {},
   "outputs": [
    {
     "data": {
      "text/plain": [
       "2.7386127875258306"
      ]
     },
     "execution_count": 24,
     "metadata": {},
     "output_type": "execute_result"
    }
   ],
   "source": [
    "# Calculating the standard deviation using Pandas\n",
    "df = pd.DataFrame(data)\n",
    "std_pandas = float(df.std())\n",
    "std_pandas"
   ]
  },
  {
   "cell_type": "code",
   "execution_count": 23,
   "metadata": {},
   "outputs": [
    {
     "data": {
      "text/plain": [
       "2.581988897471611"
      ]
     },
     "execution_count": 23,
     "metadata": {},
     "output_type": "execute_result"
    }
   ],
   "source": [
    "# Calculating the standard deviation using Numpy\n",
    "arr = np.array(data)\n",
    "std_numpy  = np.std(arr)\n",
    "std_numpy"
   ]
  },
  {
   "cell_type": "code",
   "execution_count": 25,
   "metadata": {},
   "outputs": [
    {
     "name": "stdout",
     "output_type": "stream",
     "text": [
      "0.1566238900542194\n"
     ]
    }
   ],
   "source": [
    "# Correction\n",
    "print(std_pandas - std_numpy)"
   ]
  },
  {
   "attachments": {},
   "cell_type": "markdown",
   "metadata": {},
   "source": [
    "The difference in the standard deviation calculated by pandas and numpy is because of the difference in the formula used to calculate the standard deviation.\n",
    "\n",
    "- By default, `pandas` calculates the `sample standard deviation` using `Bessel's correction`, which divides the sum of squared deviations by `(n-1)` instead of `n`. The idea behind this correction is to adjust for the fact that using a sample to estimate the population standard deviation will tend to underestimate it.\n",
    "\n",
    "- On the other hand, numpy's `np.std()` function by default uses the population standard deviation formula, which divides the sum of squared deviations by `n`.\n",
    "\n",
    "In the given code, the data contains only 9 values, so using Bessel's correction will result in a slightly higher standard deviation than using the population formula. The difference between the two values is what is printed at the end of the code.\n",
    "\n",
    "\n",
    "In Python, Pandas calculates the standard deviation with Bessel's correction by default, while Numpy does not. However, both libraries provide an option to turn Bessel's correction off by setting the \"ddof\" (degrees of freedom) parameter to 0."
   ]
  }
 ],
 "metadata": {
  "kernelspec": {
   "display_name": "base",
   "language": "python",
   "name": "python3"
  },
  "language_info": {
   "codemirror_mode": {
    "name": "ipython",
    "version": 3
   },
   "file_extension": ".py",
   "mimetype": "text/x-python",
   "name": "python",
   "nbconvert_exporter": "python",
   "pygments_lexer": "ipython3",
   "version": "3.9.13"
  },
  "orig_nbformat": 4
 },
 "nbformat": 4,
 "nbformat_minor": 2
}
