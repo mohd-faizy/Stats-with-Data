{
 "cells": [
  {
   "attachments": {},
   "cell_type": "markdown",
   "metadata": {},
   "source": [
    "## **Bernoulli Distribution**"
   ]
  },
  {
   "attachments": {},
   "cell_type": "markdown",
   "metadata": {},
   "source": [
    "The Bernoulli distribution is a probability distribution that describes the outcome of a single binary experiment, such as flipping a coin or making a yes-or-no decision.\n",
    "\n",
    "The Bernoulli distribution is characterized by a single parameter, usually denoted by `p`, which represents the probability of a success (e.g., getting heads on a coin flip, or answering `yes` to a question). The probability of a failure (getting tails on a coin flip, or answering \"no\" to a question) is `1-p`.\n",
    "\n",
    "The probability mass function (PMF) of the Bernoulli distribution is:\n",
    "\n",
    "```\n",
    "f(X = x) = p^x * (1-p)^(1-x), for x in {0,1}\n",
    "```\n",
    "\n",
    "- p\t=\tprobability\n",
    "- x\t=\tpossible outcomes\n",
    "- f\t=\tprobability mass function\n",
    "\n",
    "\n",
    "where X is a random variable that takes on the value 1 with probability p (i.e., a success), and 0 with probability 1-p (i.e., a failure).\n"
   ]
  },
  {
   "attachments": {},
   "cell_type": "markdown",
   "metadata": {},
   "source": [
    "## Tips DataSet"
   ]
  },
  {
   "cell_type": "code",
   "execution_count": 18,
   "metadata": {},
   "outputs": [
    {
     "data": {
      "text/html": [
       "<div>\n",
       "<style scoped>\n",
       "    .dataframe tbody tr th:only-of-type {\n",
       "        vertical-align: middle;\n",
       "    }\n",
       "\n",
       "    .dataframe tbody tr th {\n",
       "        vertical-align: top;\n",
       "    }\n",
       "\n",
       "    .dataframe thead th {\n",
       "        text-align: right;\n",
       "    }\n",
       "</style>\n",
       "<table border=\"1\" class=\"dataframe\">\n",
       "  <thead>\n",
       "    <tr style=\"text-align: right;\">\n",
       "      <th></th>\n",
       "      <th>total_bill</th>\n",
       "      <th>tip</th>\n",
       "      <th>sex</th>\n",
       "      <th>smoker</th>\n",
       "      <th>day</th>\n",
       "      <th>time</th>\n",
       "      <th>size</th>\n",
       "      <th>tip_greater_than_10</th>\n",
       "    </tr>\n",
       "  </thead>\n",
       "  <tbody>\n",
       "    <tr>\n",
       "      <th>0</th>\n",
       "      <td>16.99</td>\n",
       "      <td>1.01</td>\n",
       "      <td>Female</td>\n",
       "      <td>No</td>\n",
       "      <td>Sun</td>\n",
       "      <td>Dinner</td>\n",
       "      <td>2</td>\n",
       "      <td>0</td>\n",
       "    </tr>\n",
       "    <tr>\n",
       "      <th>1</th>\n",
       "      <td>10.34</td>\n",
       "      <td>1.66</td>\n",
       "      <td>Male</td>\n",
       "      <td>No</td>\n",
       "      <td>Sun</td>\n",
       "      <td>Dinner</td>\n",
       "      <td>3</td>\n",
       "      <td>1</td>\n",
       "    </tr>\n",
       "    <tr>\n",
       "      <th>2</th>\n",
       "      <td>21.01</td>\n",
       "      <td>3.50</td>\n",
       "      <td>Male</td>\n",
       "      <td>No</td>\n",
       "      <td>Sun</td>\n",
       "      <td>Dinner</td>\n",
       "      <td>3</td>\n",
       "      <td>1</td>\n",
       "    </tr>\n",
       "    <tr>\n",
       "      <th>3</th>\n",
       "      <td>23.68</td>\n",
       "      <td>3.31</td>\n",
       "      <td>Male</td>\n",
       "      <td>No</td>\n",
       "      <td>Sun</td>\n",
       "      <td>Dinner</td>\n",
       "      <td>2</td>\n",
       "      <td>1</td>\n",
       "    </tr>\n",
       "    <tr>\n",
       "      <th>4</th>\n",
       "      <td>24.59</td>\n",
       "      <td>3.61</td>\n",
       "      <td>Female</td>\n",
       "      <td>No</td>\n",
       "      <td>Sun</td>\n",
       "      <td>Dinner</td>\n",
       "      <td>4</td>\n",
       "      <td>1</td>\n",
       "    </tr>\n",
       "    <tr>\n",
       "      <th>...</th>\n",
       "      <td>...</td>\n",
       "      <td>...</td>\n",
       "      <td>...</td>\n",
       "      <td>...</td>\n",
       "      <td>...</td>\n",
       "      <td>...</td>\n",
       "      <td>...</td>\n",
       "      <td>...</td>\n",
       "    </tr>\n",
       "    <tr>\n",
       "      <th>239</th>\n",
       "      <td>29.03</td>\n",
       "      <td>5.92</td>\n",
       "      <td>Male</td>\n",
       "      <td>No</td>\n",
       "      <td>Sat</td>\n",
       "      <td>Dinner</td>\n",
       "      <td>3</td>\n",
       "      <td>1</td>\n",
       "    </tr>\n",
       "    <tr>\n",
       "      <th>240</th>\n",
       "      <td>27.18</td>\n",
       "      <td>2.00</td>\n",
       "      <td>Female</td>\n",
       "      <td>Yes</td>\n",
       "      <td>Sat</td>\n",
       "      <td>Dinner</td>\n",
       "      <td>2</td>\n",
       "      <td>0</td>\n",
       "    </tr>\n",
       "    <tr>\n",
       "      <th>241</th>\n",
       "      <td>22.67</td>\n",
       "      <td>2.00</td>\n",
       "      <td>Male</td>\n",
       "      <td>Yes</td>\n",
       "      <td>Sat</td>\n",
       "      <td>Dinner</td>\n",
       "      <td>2</td>\n",
       "      <td>0</td>\n",
       "    </tr>\n",
       "    <tr>\n",
       "      <th>242</th>\n",
       "      <td>17.82</td>\n",
       "      <td>1.75</td>\n",
       "      <td>Male</td>\n",
       "      <td>No</td>\n",
       "      <td>Sat</td>\n",
       "      <td>Dinner</td>\n",
       "      <td>2</td>\n",
       "      <td>0</td>\n",
       "    </tr>\n",
       "    <tr>\n",
       "      <th>243</th>\n",
       "      <td>18.78</td>\n",
       "      <td>3.00</td>\n",
       "      <td>Female</td>\n",
       "      <td>No</td>\n",
       "      <td>Thur</td>\n",
       "      <td>Dinner</td>\n",
       "      <td>2</td>\n",
       "      <td>1</td>\n",
       "    </tr>\n",
       "  </tbody>\n",
       "</table>\n",
       "<p>244 rows × 8 columns</p>\n",
       "</div>"
      ],
      "text/plain": [
       "     total_bill   tip     sex smoker   day    time  size  tip_greater_than_10\n",
       "0         16.99  1.01  Female     No   Sun  Dinner     2                    0\n",
       "1         10.34  1.66    Male     No   Sun  Dinner     3                    1\n",
       "2         21.01  3.50    Male     No   Sun  Dinner     3                    1\n",
       "3         23.68  3.31    Male     No   Sun  Dinner     2                    1\n",
       "4         24.59  3.61  Female     No   Sun  Dinner     4                    1\n",
       "..          ...   ...     ...    ...   ...     ...   ...                  ...\n",
       "239       29.03  5.92    Male     No   Sat  Dinner     3                    1\n",
       "240       27.18  2.00  Female    Yes   Sat  Dinner     2                    0\n",
       "241       22.67  2.00    Male    Yes   Sat  Dinner     2                    0\n",
       "242       17.82  1.75    Male     No   Sat  Dinner     2                    0\n",
       "243       18.78  3.00  Female     No  Thur  Dinner     2                    1\n",
       "\n",
       "[244 rows x 8 columns]"
      ]
     },
     "metadata": {},
     "output_type": "display_data"
    },
    {
     "name": "stdout",
     "output_type": "stream",
     "text": [
      "[0.11065573770491799, 0.889344262295082]\n"
     ]
    }
   ],
   "source": [
    "import seaborn as sns\n",
    "import numpy as np\n",
    "\n",
    "tips = sns.load_dataset('tips')\n",
    "\n",
    "# Create a binary variable indicating whether the tip is greater than or equal to 10%\n",
    "tips['tip_greater_than_10'] = np.where(tips['tip'] / tips['total_bill'] >= 0.1, 1, 0)\n",
    "display(tips)\n",
    "\n",
    "# Calculate the proportion of tips that are greater than or equal to 20%\n",
    "p = tips['tip_greater_than_10'].mean()\n",
    "\n",
    "# Define the Bernoulli distribution using the calculated proportion\n",
    "pmf = [1-p, p]\n",
    "\n",
    "# Print the PMF\n",
    "print(pmf)"
   ]
  },
  {
   "attachments": {},
   "cell_type": "markdown",
   "metadata": {},
   "source": [
    "## Coin Tosses"
   ]
  },
  {
   "cell_type": "code",
   "execution_count": 2,
   "metadata": {},
   "outputs": [
    {
     "name": "stdout",
     "output_type": "stream",
     "text": [
      "Coin tosses: [0 0 0 0 1 1 1 1 0 0]\n",
      "Number of heads: 4\n",
      "Number of tails: 6\n"
     ]
    }
   ],
   "source": [
    "import numpy as np\n",
    "\n",
    "# Set the probability of heads to 0.5\n",
    "p = 0.5\n",
    "\n",
    "# Simulate 10 coin tosses using the Bernoulli distribution\n",
    "tosses = np.random.binomial(n=1, p=p, size=10)\n",
    "\n",
    "# Print the results\n",
    "print(\"Coin tosses:\", tosses)\n",
    "print(\"Number of heads:\", np.sum(tosses))\n",
    "print(\"Number of tails:\", np.sum(1 - tosses))"
   ]
  },
  {
   "cell_type": "code",
   "execution_count": 15,
   "metadata": {},
   "outputs": [
    {
     "data": {
      "image/png": "[encoded data removed]",
      "text/plain": [
       "<Figure size 640x480 with 1 Axes>"
      ]
     },
     "metadata": {},
     "output_type": "display_data"
    }
   ],
   "source": [
    "# plotting the toss\n",
    "sns.countplot(x =tosses)\n",
    "# set custom tick labels for x-axis\n",
    "plt.xticks([0, 1], ['Heads', 'Tails'])\n",
    "plt.show()"
   ]
  },
  {
   "cell_type": "code",
   "execution_count": 23,
   "metadata": {},
   "outputs": [
    {
     "data": {
      "image/png": "[encoded data removed]",
      "text/plain": [
       "<Figure size 1200x800 with 1 Axes>"
      ]
     },
     "metadata": {},
     "output_type": "display_data"
    }
   ],
   "source": [
    "import numpy as np\n",
    "import matplotlib.pyplot as plt\n",
    "from scipy.stats import bernoulli\n",
    "\n",
    "# set the probability of success\n",
    "p = 0.7\n",
    "\n",
    "# generate 1000 random Bernoulli trials with probability p\n",
    "trials = bernoulli.rvs(p, size=1000)\n",
    "\n",
    "# calculate the empirical probability of success\n",
    "empirical_p = np.mean(trials)\n",
    "\n",
    "# create a histogram of the trials\n",
    "fig, ax = plt.subplots(figsize=(12, 8))\n",
    "ax.hist(trials, bins=[-0.5, 0.5, 1.5], alpha=0.5, density=True)\n",
    "\n",
    "# overlay the theoretical PMF of the Bernoulli distribution\n",
    "x = np.array([0, 1])\n",
    "ax.plot(x, bernoulli.pmf(x, p), 'ro', ms=8)\n",
    "\n",
    "# add labels and legend\n",
    "ax.set_xlabel('Outcome')\n",
    "ax.set_ylabel('Probability')\n",
    "ax.legend(['Theoretical PMF', 'Empirical Histogram'])\n",
    "\n",
    "# set the y-axis limit to the maximum PMF value\n",
    "ax.set_ylim([0, max(bernoulli.pmf(x, p)) + 0.1])\n",
    "\n",
    "# add text with the empirical and theoretical probabilities of success\n",
    "ax.text(0.05, 0.9, 'Empirical p = {:.2f}'.format(empirical_p), transform=ax.transAxes)\n",
    "ax.text(0.05, 0.8, 'Theoretical p = {:.2f}'.format(p), transform=ax.transAxes)\n",
    "\n",
    "plt.show()\n"
   ]
  }
 ],
 "metadata": {
  "kernelspec": {
   "display_name": "base",
   "language": "python",
   "name": "python3"
  },
  "language_info": {
   "codemirror_mode": {
    "name": "ipython",
    "version": 3
   },
   "file_extension": ".py",
   "mimetype": "text/x-python",
   "name": "python",
   "nbconvert_exporter": "python",
   "pygments_lexer": "ipython3",
   "version": "3.9.13"
  },
  "orig_nbformat": 4
 },
 "nbformat": 4,
 "nbformat_minor": 2
}
